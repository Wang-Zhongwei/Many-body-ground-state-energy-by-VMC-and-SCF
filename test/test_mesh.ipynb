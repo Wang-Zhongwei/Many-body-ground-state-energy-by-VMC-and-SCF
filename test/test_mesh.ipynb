{
 "cells": [
  {
   "cell_type": "code",
   "execution_count": 2,
   "metadata": {},
   "outputs": [],
   "source": [
    "import numpy as np"
   ]
  },
  {
   "cell_type": "code",
   "execution_count": 4,
   "metadata": {},
   "outputs": [],
   "source": [
    "alpha_rgn = np.arange(1.0, 2.0, 0.1)\n",
    "beta_rgn = np.arange(-1, 1, 0.1)\n",
    "alpha_mesh, beta_mesh = np.meshgrid(alpha_rgn, beta_rgn)"
   ]
  },
  {
   "cell_type": "code",
   "execution_count": 7,
   "metadata": {},
   "outputs": [],
   "source": [
    "# make alpha_mesh, beta_mesh side to side as a 2d array\n",
    "alpha_beta_mesh = np.stack((alpha_mesh, beta_mesh), axis=2)"
   ]
  },
  {
   "cell_type": "code",
   "execution_count": 26,
   "metadata": {},
   "outputs": [],
   "source": [
    "# parse the following string with format (alpha, beta) = ({alpha}, {beta}); energy = {energy}, error = {error}, acceptance = {acceptance}\n",
    "# to a list of (alpha, beta, energy, error, acceptance)\n",
    "\n",
    "def parse_log(log):\n",
    "    log = log.split(';')\n",
    "    alpha, beta = log[0].split('=')[1].strip().split(',')\n",
    "    alpha = float(alpha[1:])\n",
    "    beta = float(beta[:-1])\n",
    "    \n",
    "    log = ''.join(log[1:]).split(',')\n",
    "    energy = float(log[0].split('=')[1].strip())\n",
    "    error = float(log[1].split('=')[1].strip())\n",
    "    acceptance = float(log[2].split('=')[1].strip())\n",
    "    return (alpha, beta, energy, error, acceptance)"
   ]
  },
  {
   "cell_type": "code",
   "execution_count": 24,
   "metadata": {},
   "outputs": [],
   "source": [
    "str=\"\"\"INFO:root:(alpha, beta) = (1.6, 1.2); energy = -2.8516384062636506, error = 0.7664009393468464, acceptance = 0.25883411658834116\n",
    "INFO:root:(alpha, beta) = (1.6400000000000001, 1.2); energy = -2.8548223330529727, error = 0.7203611897347286, acceptance = 0.25098490150984903\n",
    "INFO:root:(alpha, beta) = (1.6800000000000002, 1.2); energy = -2.881364911730749, error = 0.6846567409771626, acceptance = 0.23436656334366562\n",
    "INFO:root:(alpha, beta) = (1.72, 1.2); energy = -2.8843330759153143, error = 0.6189569990012603, acceptance = 0.23375662433756625\n",
    "INFO:root:(alpha, beta) = (1.76, 1.2); energy = -2.890243657650087, error = 0.5825837144396314, acceptance = 0.2252074792520748\n",
    "INFO:root:(alpha, beta) = (1.8, 1.2); energy = -2.881313322411704, error = 0.4753779829565108, acceptance = 0.21485851414858514\n",
    "INFO:root:(alpha, beta) = (1.84, 1.2); energy = -2.869107696339351, error = 0.402141414499266, acceptance = 0.20267973202679732\n",
    "INFO:root:(alpha, beta) = (1.8800000000000001, 1.2); energy = -2.886274304602314, error = 0.48103353007682603, acceptance = 0.1925107489251075\n",
    "INFO:root:(alpha, beta) = (1.92, 1.2); energy = -2.8600410301685937, error = 0.42195531184954277, acceptance = 0.1898110188981102\n",
    "INFO:root:(alpha, beta) = (1.96, 1.2); energy = -2.879045241762635, error = 0.4146273618044897, acceptance = 0.1892910708929107\n",
    "INFO:root:(alpha, beta) = (2.0, 1.2); energy = -2.864098912554906, error = 0.48757928421622887, acceptance = 0.17735226477352264\n",
    "INFO:root:(alpha, beta) = (1.6, 1.27); energy = -2.8390126189750613, error = 0.7290044315650005, acceptance = 0.2595040495950405\n",
    "INFO:root:(alpha, beta) = (1.6400000000000001, 1.27); energy = -2.87452382976595, error = 0.7324783706149779, acceptance = 0.2463953604639536\n",
    "INFO:root:(alpha, beta) = (1.6800000000000002, 1.27); energy = -2.873960110163312, error = 0.6316204970538388, acceptance = 0.23785621437856214\n",
    "INFO:root:(alpha, beta) = (1.72, 1.27); energy = -2.876607875860961, error = 0.5804382580646974, acceptance = 0.23171682831716828\n",
    "INFO:root:(alpha, beta) = (1.76, 1.27); energy = -2.885560176144045, error = 0.5585137893977047, acceptance = 0.21956804319568043\n",
    "INFO:root:(alpha, beta) = (1.8, 1.27); energy = -2.9021182494634927, error = 0.5794844289963951, acceptance = 0.2133986601339866\n",
    "INFO:root:(alpha, beta) = (1.84, 1.27); energy = -2.883156261758539, error = 0.4460930484179852, acceptance = 0.20777922207779223\n",
    "INFO:root:(alpha, beta) = (1.8800000000000001, 1.27); energy = -2.8654020204410684, error = 0.42806800955946456, acceptance = 0.19433056694330567\n",
    "INFO:root:(alpha, beta) = (1.92, 1.27); energy = -2.867746679647731, error = 0.4261171027813491, acceptance = 0.18804119588041196\n",
    "INFO:root:(alpha, beta) = (1.96, 1.27); energy = -2.8535545766118933, error = 0.3869596054556802, acceptance = 0.1853014698530147\n",
    "INFO:root:(alpha, beta) = (2.0, 1.27); energy = -2.839747459612863, error = 0.5258254771855061, acceptance = 0.17227277272272773\n",
    "INFO:root:(alpha, beta) = (1.6, 1.3399999999999999); energy = -2.863287209206954, error = 0.7903583833107463, acceptance = 0.2596140385961404\n",
    "INFO:root:(alpha, beta) = (1.6400000000000001, 1.3399999999999999); energy = -2.8623975374355757, error = 0.719068969684559, acceptance = 0.24603539646035397\n",
    "INFO:root:(alpha, beta) = (1.6800000000000002, 1.3399999999999999); energy = -2.8896658903352095, error = 1.106455030559248, acceptance = 0.24533546645335466\n",
    "INFO:root:(alpha, beta) = (1.72, 1.3399999999999999); energy = -2.897892072260073, error = 0.7713908874394836, acceptance = 0.23097690230976903\n",
    "INFO:root:(alpha, beta) = (1.76, 1.3399999999999999); energy = -2.894625769812456, error = 0.5700226329273888, acceptance = 0.2232976702329767\n",
    "INFO:root:(alpha, beta) = (1.8, 1.3399999999999999); energy = -2.8970587411105404, error = 0.5306651423656374, acceptance = 0.2093890610938906\n",
    "INFO:root:(alpha, beta) = (1.84, 1.3399999999999999); energy = -2.888437301960332, error = 0.43986023582403927, acceptance = 0.20390960903909608\n",
    "INFO:root:(alpha, beta) = (1.8800000000000001, 1.3399999999999999); energy = -2.875245435494876, error = 0.3788210542992765, acceptance = 0.19788021197880212\n",
    "INFO:root:(alpha, beta) = (1.92, 1.3399999999999999); energy = -2.8648504264518504, error = 0.39884282019041184, acceptance = 0.19123087691230878\n",
    "INFO:root:(alpha, beta) = (1.96, 1.3399999999999999); energy = -2.8495829601634526, error = 0.40714604754880207, acceptance = 0.1832016798320168\n",
    "INFO:root:(alpha, beta) = (2.0, 1.3399999999999999); energy = -2.8355310836618037, error = 0.4077486221581765, acceptance = 0.17342265773422658\n",
    "INFO:root:(alpha, beta) = (1.6, 1.41); energy = -2.841838675355733, error = 0.6866092704252563, acceptance = 0.258024197580242\n",
    "INFO:root:(alpha, beta) = (1.6400000000000001, 1.41); energy = -2.855430171359246, error = 0.6887052736741343, acceptance = 0.2471852814718528\n",
    "INFO:root:(alpha, beta) = (1.6800000000000002, 1.41); energy = -2.881350583278681, error = 0.6639946875973214, acceptance = 0.24041595840415958\n",
    "INFO:root:(alpha, beta) = (1.72, 1.41); energy = -2.905224268047801, error = 0.7107746571162097, acceptance = 0.22432756724327568\n",
    "INFO:root:(alpha, beta) = (1.76, 1.41); energy = -2.873359961855753, error = 0.4952376560556682, acceptance = 0.21846815318468152\n",
    "INFO:root:(alpha, beta) = (1.8, 1.41); energy = -2.898514427900471, error = 0.5867665485370143, acceptance = 0.20805919408059195\n",
    "INFO:root:(alpha, beta) = (1.84, 1.41); energy = -2.8680362198414486, error = 0.40483419178357655, acceptance = 0.20111988801119887\n",
    "INFO:root:(alpha, beta) = (1.8800000000000001, 1.41); energy = -2.873676045868807, error = 0.43471105070955984, acceptance = 0.1906109389061094\n",
    "INFO:root:(alpha, beta) = (1.92, 1.41); energy = -2.8562591285301333, error = 0.4161992353089778, acceptance = 0.18832116788321168\n",
    "INFO:root:(alpha, beta) = (1.96, 1.41); energy = -2.8571154821866767, error = 0.4260712988406927, acceptance = 0.17917208279172084\n",
    "INFO:root:(alpha, beta) = (2.0, 1.41); energy = -2.8647245664257626, error = 0.4295740893069374, acceptance = 0.17887211278872112\n",
    "INFO:root:(alpha, beta) = (1.6, 1.48); energy = -2.843292373250841, error = 0.7251851673265958, acceptance = 0.25495450454954505\n",
    "INFO:root:(alpha, beta) = (1.6400000000000001, 1.48); energy = -2.8571121945784985, error = 0.7585805290510512, acceptance = 0.24664533546645334\n",
    "INFO:root:(alpha, beta) = (1.6800000000000002, 1.48); energy = -2.9163410353744204, error = 0.9169242483100398, acceptance = 0.23526647335266473\n",
    "INFO:root:(alpha, beta) = (1.72, 1.48); energy = -2.8821748701531393, error = 0.6395742236530221, acceptance = 0.22060793920607938\n",
    "INFO:root:(alpha, beta) = (1.76, 1.48); energy = -2.88034573759952, error = 0.8375872722064851, acceptance = 0.22143785621437856\n",
    "INFO:root:(alpha, beta) = (1.8, 1.48); energy = -2.8724424992803113, error = 0.4635354677982339, acceptance = 0.20646935306469352\n",
    "INFO:root:(alpha, beta) = (1.84, 1.48); energy = -2.878744170014095, error = 0.4620714356302637, acceptance = 0.19928007199280073\n",
    "INFO:root:(alpha, beta) = (1.8800000000000001, 1.48); energy = -2.8634299349960712, error = 0.35524728869789923, acceptance = 0.19547045295470453\n",
    "INFO:root:(alpha, beta) = (1.92, 1.48); energy = -2.8605171408636814, error = 0.38693451690889497, acceptance = 0.18775122487751225\n",
    "INFO:root:(alpha, beta) = (1.96, 1.48); energy = -2.8383025247685425, error = 0.512297098947961, acceptance = 0.176002399760024\n",
    "INFO:root:(alpha, beta) = (2.0, 1.48); energy = -2.8437120448462356, error = 0.6442994529368584, acceptance = 0.17281271872812717\n",
    "INFO:root:(alpha, beta) = (1.6, 1.5499999999999998); energy = -2.872586911839509, error = 0.844811232677981, acceptance = 0.25105489451054896\n",
    "INFO:root:(alpha, beta) = (1.6400000000000001, 1.5499999999999998); energy = -2.865161882862381, error = 0.867826978796967, acceptance = 0.24833516648335166\n",
    "INFO:root:(alpha, beta) = (1.6800000000000002, 1.5499999999999998); energy = -2.859929704172417, error = 0.6043224030974764, acceptance = 0.23567643235676433\n",
    "INFO:root:(alpha, beta) = (1.72, 1.5499999999999998); energy = -2.8800725924891375, error = 0.5799596906508908, acceptance = 0.22698730126987302\n",
    "INFO:root:(alpha, beta) = (1.76, 1.5499999999999998); energy = -2.8834405584164853, error = 0.5442701090972745, acceptance = 0.2167983201679832\n",
    "INFO:root:(alpha, beta) = (1.8, 1.5499999999999998); energy = -2.8786610177535437, error = 0.5298453458995808, acceptance = 0.20857914208579142\n",
    "INFO:root:(alpha, beta) = (1.84, 1.5499999999999998); energy = -2.8743598334655656, error = 0.4290963542858356, acceptance = 0.20474952504749525\n",
    "INFO:root:(alpha, beta) = (1.8800000000000001, 1.5499999999999998); energy = -2.8646247179161564, error = 0.43677418718139766, acceptance = 0.19088091190880913\n",
    "INFO:root:(alpha, beta) = (1.92, 1.5499999999999998); energy = -2.8839507375200295, error = 0.5162252797525162, acceptance = 0.18013198680131987\n",
    "INFO:root:(alpha, beta) = (1.96, 1.5499999999999998); energy = -2.864966061308177, error = 0.44616866212954903, acceptance = 0.17954204579542046\n",
    "INFO:root:(alpha, beta) = (2.0, 1.5499999999999998); energy = -2.8444824801552437, error = 0.4364688894384962, acceptance = 0.17103289671032898\n",
    "INFO:root:(alpha, beta) = (1.6, 1.6199999999999999); energy = -2.8516663150692243, error = 0.6562213712467712, acceptance = 0.2525147485251475\n",
    "INFO:root:(alpha, beta) = (1.6400000000000001, 1.6199999999999999); energy = -2.8683105370089477, error = 1.1092464903454808, acceptance = 0.24555544445555444\n",
    "INFO:root:(alpha, beta) = (1.6800000000000002, 1.6199999999999999); energy = -2.8898845570415386, error = 0.7012334219633419, acceptance = 0.23293670632936705\n",
    "INFO:root:(alpha, beta) = (1.72, 1.6199999999999999); energy = -2.88674527991609, error = 0.6620190666670259, acceptance = 0.22371762823717628\n",
    "INFO:root:(alpha, beta) = (1.76, 1.6199999999999999); energy = -2.862433452217552, error = 0.48657233844336795, acceptance = 0.21692830716928307\n",
    "INFO:root:(alpha, beta) = (1.8, 1.6199999999999999); energy = -2.877314400063271, error = 0.4820619942145868, acceptance = 0.2032096790320968\n",
    "INFO:root:(alpha, beta) = (1.84, 1.6199999999999999); energy = -2.887852031907985, error = 0.48977640752044455, acceptance = 0.1974902509749025\n",
    "INFO:root:(alpha, beta) = (1.8800000000000001, 1.6199999999999999); energy = -2.860582682330927, error = 0.4414729280665747, acceptance = 0.1916008399160084\n",
    "INFO:root:(alpha, beta) = (1.92, 1.6199999999999999); energy = -2.8662818085940516, error = 0.5016246927305488, acceptance = 0.18426157384261574\n",
    "INFO:root:(alpha, beta) = (1.96, 1.6199999999999999); energy = -2.8547990822212532, error = 0.4272335183076546, acceptance = 0.18163183681631836\n",
    "INFO:root:(alpha, beta) = (2.0, 1.6199999999999999); energy = -2.847263964044587, error = 0.4108019510372134, acceptance = 0.1745925407459254\n",
    "INFO:root:(alpha, beta) = (1.6, 1.69); energy = -2.8512063919542077, error = 0.7390210438201011, acceptance = 0.25437456254374563\n",
    "INFO:root:(alpha, beta) = (1.6400000000000001, 1.69); energy = -2.8697540036515665, error = 0.7784266181410786, acceptance = 0.24416558344165584\n",
    "INFO:root:(alpha, beta) = (1.6800000000000002, 1.69); energy = -2.884206501061983, error = 0.9208665656503274, acceptance = 0.23400659934006598\n",
    "INFO:root:(alpha, beta) = (1.72, 1.69); energy = -2.870963117133115, error = 0.7799833811146986, acceptance = 0.2248775122487751\n",
    "INFO:root:(alpha, beta) = (1.76, 1.69); energy = -2.8753672239842376, error = 0.4922159062730631, acceptance = 0.21613838616138387\n",
    "INFO:root:(alpha, beta) = (1.8, 1.69); energy = -2.8618692319628956, error = 0.39943412537006406, acceptance = 0.20748925107489252\n",
    "INFO:root:(alpha, beta) = (1.84, 1.69); energy = -2.8586230601111264, error = 0.3739675115110357, acceptance = 0.20044995500449955\n",
    "INFO:root:(alpha, beta) = (1.8800000000000001, 1.69); energy = -2.8681845429087747, error = 0.4261055039781397, acceptance = 0.1888911108889111\n",
    "INFO:root:(alpha, beta) = (1.92, 1.69); energy = -2.859035165978012, error = 0.38041649195590044, acceptance = 0.18509149085091492\n",
    "INFO:root:(alpha, beta) = (1.96, 1.69); energy = -2.852676906322839, error = 0.5245663960467895, acceptance = 0.17573242675732426\n",
    "INFO:root:(alpha, beta) = (2.0, 1.69); energy = -2.8334669803355452, error = 0.5351717187634767, acceptance = 0.1675932406759324\n",
    "INFO:root:(alpha, beta) = (1.6, 1.7599999999999998); energy = -2.8645305956541085, error = 0.8990665424405491, acceptance = 0.2585941405859414\n",
    "INFO:root:(alpha, beta) = (1.6400000000000001, 1.7599999999999998); energy = -2.868362445171148, error = 0.9304214459256687, acceptance = 0.23952604739526048\n",
    "INFO:root:(alpha, beta) = (1.6800000000000002, 1.7599999999999998); energy = -2.872775534362221, error = 0.5908195697255032, acceptance = 0.2342065793420658\n",
    "INFO:root:(alpha, beta) = (1.72, 1.7599999999999998); energy = -2.87593880092654, error = 0.6008299523305831, acceptance = 0.22225777422257775\n",
    "INFO:root:(alpha, beta) = (1.76, 1.7599999999999998); energy = -2.8760368555314506, error = 0.48262745022863107, acceptance = 0.21384861513848616\n",
    "INFO:root:(alpha, beta) = (1.8, 1.7599999999999998); energy = -2.8747430476396794, error = 0.4608000497240746, acceptance = 0.207979202079792\n",
    "INFO:root:(alpha, beta) = (1.84, 1.7599999999999998); energy = -2.8676553852194444, error = 0.39952239399740896, acceptance = 0.19679032096790322\n",
    "INFO:root:(alpha, beta) = (1.8800000000000001, 1.7599999999999998); energy = -2.8617133819984395, error = 0.44310288008946797, acceptance = 0.1928907109289071\n",
    "INFO:root:(alpha, beta) = (1.92, 1.7599999999999998); energy = -2.854074054986855, error = 0.4573704281165425, acceptance = 0.17915208479152084\n",
    "INFO:root:(alpha, beta) = (1.96, 1.7599999999999998); energy = -2.831051590090435, error = 0.42118783720155556, acceptance = 0.17621237876212378\n",
    "INFO:root:(alpha, beta) = (2.0, 1.7599999999999998); energy = -2.8366259316712314, error = 0.5274573774129155, acceptance = 0.1653934606539346\n",
    "INFO:root:(alpha, beta) = (1.6, 1.8299999999999998); energy = -2.8551709214899352, error = 0.6623283916419183, acceptance = 0.24833516648335166\n",
    "INFO:root:(alpha, beta) = (1.6400000000000001, 1.8299999999999998); energy = -2.8798635185711916, error = 0.8714601850868038, acceptance = 0.24397560243975602\n",
    "INFO:root:(alpha, beta) = (1.6800000000000002, 1.8299999999999998); energy = -2.8660364013733033, error = 0.5877863126444274, acceptance = 0.23423657634236578\n",
    "INFO:root:(alpha, beta) = (1.72, 1.8299999999999998); energy = -2.8851536624796204, error = 0.6514369457490209, acceptance = 0.22085791420857914\n",
    "INFO:root:(alpha, beta) = (1.76, 1.8299999999999998); energy = -2.869857974648094, error = 0.4786741931111634, acceptance = 0.21706829317068294\n",
    "INFO:root:(alpha, beta) = (1.8, 1.8299999999999998); energy = -2.8882589025091367, error = 0.5214846224727224, acceptance = 0.20182981701829816\n",
    "INFO:root:(alpha, beta) = (1.84, 1.8299999999999998); energy = -2.9037181216354795, error = 0.6359065789915388, acceptance = 0.19974002599740026\n",
    "INFO:root:(alpha, beta) = (1.8800000000000001, 1.8299999999999998); energy = -2.875532006795581, error = 0.43486954263652733, acceptance = 0.18966103389661035\n",
    "INFO:root:(alpha, beta) = (1.92, 1.8299999999999998); energy = -2.8542818331291793, error = 0.40235064314797886, acceptance = 0.18183181681831817\n",
    "INFO:root:(alpha, beta) = (1.96, 1.8299999999999998); energy = -2.8487072618773546, error = 0.4661048585635615, acceptance = 0.17416258374162583\n",
    "INFO:root:(alpha, beta) = (2.0, 1.8299999999999998); energy = -2.8108447686626725, error = 0.46416581422813635, acceptance = 0.16881311868813118\n",
    "INFO:root:(alpha, beta) = (1.6, 1.9); energy = -2.857792590517364, error = 0.7799024171641786, acceptance = 0.2516148385161484\n",
    "INFO:root:(alpha, beta) = (1.6400000000000001, 1.9); energy = -2.886816379741919, error = 0.9197882195052933, acceptance = 0.24216578342165784\n",
    "INFO:root:(alpha, beta) = (1.6800000000000002, 1.9); energy = -2.8603984536200966, error = 0.5498698830702902, acceptance = 0.2343965603439656\n",
    "INFO:root:(alpha, beta) = (1.72, 1.9); energy = -2.86812921271286, error = 0.5192320548032162, acceptance = 0.21777822217778223\n",
    "INFO:root:(alpha, beta) = (1.76, 1.9); energy = -2.8695102423956884, error = 0.5155115735533835, acceptance = 0.2144985501449855\n",
    "INFO:root:(alpha, beta) = (1.8, 1.9); energy = -2.8691959098768764, error = 0.5059837803328754, acceptance = 0.20407959204079593\n",
    "INFO:root:(alpha, beta) = (1.84, 1.9); energy = -2.8620957467195716, error = 0.42717089428113303, acceptance = 0.19693030696930308\n",
    "INFO:root:(alpha, beta) = (1.8800000000000001, 1.9); energy = -2.8659854211498295, error = 0.44399553519339974, acceptance = 0.18327167283271673\n",
    "INFO:root:(alpha, beta) = (1.92, 1.9); energy = -2.8686571939628465, error = 0.5288991320828663, acceptance = 0.180991900809919\n",
    "INFO:root:(alpha, beta) = (1.96, 1.9); energy = -2.8370627669809263, error = 0.4389779507750988, acceptance = 0.17604239576042396\n",
    "INFO:root:(alpha, beta) = (2.0, 1.9); energy = -2.8026888231311244, error = 0.46266879697964236, acceptance = 0.16542345765423458\"\"\""
   ]
  },
  {
   "cell_type": "code",
   "execution_count": 27,
   "metadata": {},
   "outputs": [],
   "source": [
    "outfile = \"../data/vmc/He_with_beta_hr.dat\"\n",
    "with open(outfile, 'w') as f:\n",
    "    lines = str.split('\\n')\n",
    "    for l in lines:\n",
    "        alpha, beta, energy, error, acceptance = parse_log(l)\n",
    "        f.write(f'{alpha}\\t{beta}\\t{energy}\\t{error}\\t{acceptance}\\n')\n",
    "f.close()"
   ]
  },
  {
   "cell_type": "code",
   "execution_count": 6,
   "metadata": {},
   "outputs": [
    {
     "data": {
      "text/plain": [
       "<matplotlib.colorbar.Colorbar at 0x7f77e908ba90>"
      ]
     },
     "execution_count": 6,
     "metadata": {},
     "output_type": "execute_result"
    },
    {
     "data": {
      "image/png": "[encoded data removed]",
      "text/plain": [
       "<Figure size 432x288 with 2 Axes>"
      ]
     },
     "metadata": {
      "needs_background": "light"
     },
     "output_type": "display_data"
    }
   ],
   "source": [
    "# import alpha, beta and energy from ../data/vmc/He_with_beta.dat\n",
    "import numpy as np\n",
    "import matplotlib.pyplot as plt\n",
    "\n",
    "\n",
    "data = np.loadtxt(\"../data/vmc/He_with_beta.dat\", unpack=True)\n",
    "shape = (10, 11)\n",
    "\n",
    "alpha = np.linspace(1.0, 2.0, 11)\n",
    "beta = np.linspace(1.0, 1.9, 10)\n",
    "energy = np.reshape(data[2], shape)\n",
    "\n",
    "alpha_mesh, beta_mesh = np.meshgrid(alpha, beta)\n",
    "\n",
    "\n",
    "# plot energy as a function of alpha and beta contour graph \n",
    "fig = plt.figure()\n",
    "ax = fig.add_subplot(111)\n",
    "ax.set_xlabel(r'$\\alpha$')\n",
    "ax.set_ylabel(r'$\\beta$')\n",
    "ax.set_title('Energy as a function of alpha and beta')\n",
    "ax.set_xlim(1.6, 2.0)\n",
    "ax.set_ylim(1.2, 1.9)\n",
    "\n",
    "# set color bar \n",
    "cbar = ax.contourf(alpha_mesh, beta_mesh, energy, 100)\n",
    "cbar.set_clim(-2.9, -2.8)\n",
    "# set color bar range \n",
    "fig.colorbar(cbar, ax=ax)\n"
   ]
  },
  {
   "cell_type": "code",
   "execution_count": 7,
   "metadata": {},
   "outputs": [],
   "source": [
    "fig.savefig('../data/pics//He_with_beta.png', dpi=300)"
   ]
  },
  {
   "cell_type": "code",
   "execution_count": 23,
   "metadata": {},
   "outputs": [],
   "source": [
    "arr = np.linspace(1, 2, 11)"
   ]
  },
  {
   "cell_type": "code",
   "execution_count": 3,
   "metadata": {},
   "outputs": [],
   "source": [
    "import numpy as np\n",
    "C = np.array([[-9.493895819859541341e-01, 3.141009736001075803e-01],\n",
    "[-3.141009736001075803e-01, -9.493895819859541341e-01]])"
   ]
  },
  {
   "cell_type": "code",
   "execution_count": 4,
   "metadata": {},
   "outputs": [
    {
     "data": {
      "text/plain": [
       "1.0000000000000002"
      ]
     },
     "execution_count": 4,
     "metadata": {},
     "output_type": "execute_result"
    }
   ],
   "source": [
    "np.linalg.det(C)"
   ]
  }
 ],
 "metadata": {
  "kernelspec": {
   "display_name": "Python 3.9.7 ('base')",
   "language": "python",
   "name": "python3"
  },
  "language_info": {
   "codemirror_mode": {
    "name": "ipython",
    "version": 3
   },
   "file_extension": ".py",
   "mimetype": "text/x-python",
   "name": "python",
   "nbconvert_exporter": "python",
   "pygments_lexer": "ipython3",
   "version": "3.9.7"
  },
  "orig_nbformat": 4,
  "vscode": {
   "interpreter": {
    "hash": "40d3a090f54c6569ab1632332b64b2c03c39dcf918b08424e98f38b5ae0af88f"
   }
  }
 },
 "nbformat": 4,
 "nbformat_minor": 2
}
