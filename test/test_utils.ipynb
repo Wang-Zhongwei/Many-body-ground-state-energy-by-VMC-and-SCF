{
 "cells": [
  {
   "cell_type": "code",
   "execution_count": 1,
   "metadata": {},
   "outputs": [],
   "source": [
    "import sys \n",
    "sys.path.append('../src/main/hf')\n",
    "from utils import *"
   ]
  },
  {
   "cell_type": "code",
   "execution_count": 2,
   "metadata": {},
   "outputs": [],
   "source": [
    "# test saving 2d data\n",
    "import numpy as np\n",
    "data = np.random.rand(3, 3)\n",
    "save_data(data, '2d.dat')"
   ]
  },
  {
   "cell_type": "code",
   "execution_count": 3,
   "metadata": {},
   "outputs": [],
   "source": [
    "# test saving 4d data \n",
    "data = np.random.rand(3, 3, 3, 3)\n",
    "save_data(data, '4d.dat')"
   ]
  },
  {
   "cell_type": "code",
   "execution_count": 4,
   "metadata": {},
   "outputs": [
    {
     "name": "stdout",
     "output_type": "stream",
     "text": [
      "[[0.50738215 0.96341204 0.4567593 ]\n",
      " [0.83942934 0.18378623 0.78808768]\n",
      " [0.9550812  0.06516451 0.13934037]]\n"
     ]
    }
   ],
   "source": [
    "sys.path.append('../src/main/hf')\n",
    "from utils import * \n",
    "# test loading 2d data\n",
    "data = load_data('2d.dat')\n",
    "print(data)"
   ]
  },
  {
   "cell_type": "code",
   "execution_count": null,
   "metadata": {},
   "outputs": [],
   "source": []
  },
  {
   "cell_type": "code",
   "execution_count": 8,
   "metadata": {},
   "outputs": [
    {
     "name": "stdout",
     "output_type": "stream",
     "text": [
      "{5.0: 0.2654140190170754, 12.0: 0.49005686213990773, 30.0: 0.3739370402170762, 17.0: 0.11320088902108516, 38.0: 0.4774233853227069, 47.0: 0.2559953118879197, 14.0: 0.2056380195576446, 32.0: 0.18840480488666, 19.0: 0.38047143940423866, 40.0: 0.08886032882847761, 49.0: 0.16482025632413255, 35.0: 0.4575921338141783, 33.0: 0.5550009588570212, 43.0: 0.14372459936796678, 52.0: 0.5293871663040985, 20.0: 0.0029219330724780113, 41.0: 0.07828355707920642, 50.0: 0.8094468516306376, 44.0: 0.9298386546609287, 53.0: 0.2012087867002087, 54.0: 0.020260654248654975}\n"
     ]
    }
   ],
   "source": [
    "# load as array from 4d.dat np\n",
    "data = load_data('g.dat')\n",
    "print(data)"
   ]
  }
 ],
 "metadata": {
  "kernelspec": {
   "display_name": "Python 3.9.7 ('base')",
   "language": "python",
   "name": "python3"
  },
  "language_info": {
   "codemirror_mode": {
    "name": "ipython",
    "version": 3
   },
   "file_extension": ".py",
   "mimetype": "text/x-python",
   "name": "python",
   "nbconvert_exporter": "python",
   "pygments_lexer": "ipython3",
   "version": "3.9.7"
  },
  "orig_nbformat": 4,
  "vscode": {
   "interpreter": {
    "hash": "40d3a090f54c6569ab1632332b64b2c03c39dcf918b08424e98f38b5ae0af88f"
   }
  }
 },
 "nbformat": 4,
 "nbformat_minor": 2
}
